{
 "cells": [
  {
   "cell_type": "code",
   "execution_count": 1,
   "id": "d3b4db3c",
   "metadata": {},
   "outputs": [
    {
     "name": "stdout",
     "output_type": "stream",
     "text": [
      "WARNING:tensorflow:From C:\\Users\\Derm\\anaconda3\\envs\\dnn\\lib\\site-packages\\tensorflow\\python\\compat\\v2_compat.py:96: disable_resource_variables (from tensorflow.python.ops.variable_scope) is deprecated and will be removed in a future version.\n",
      "Instructions for updating:\n",
      "non-resource variables are not supported in the long term\n"
     ]
    },
    {
     "data": {
      "application/javascript": [
       "IPython.notebook.set_autosave_interval(60000)"
      ]
     },
     "metadata": {},
     "output_type": "display_data"
    },
    {
     "name": "stdout",
     "output_type": "stream",
     "text": [
      "Autosaving every 60 seconds\n"
     ]
    }
   ],
   "source": [
    "import numpy as np\n",
    "import tensorflow as tf\n",
    "import tensorflow.keras as keras\n",
    "import matplotlib.pyplot as plt\n",
    "\n",
    "physical_devices = tf.config.list_physical_devices('GPU') \n",
    "tf.config.experimental.set_memory_growth(physical_devices[0], True)\n",
    "\n",
    "#for tf1\n",
    "# from tensorflow.examples.tutorials.mnist import input_data\n",
    "# mnist=input_data.read_data_sets(\"MNIST_data\")\n",
    "\n",
    "#for tf2\n",
    "# import tensorflow_datasets\n",
    "# mnist = tensorflow_datasets.load('mnist', download = True, with_info = False)\n",
    "\n",
    "#from HW2\n",
    "from sklearn.model_selection import train_test_split\n",
    "mnist = tf.keras.datasets.mnist.load_data()\n",
    "\n",
    "import tensorflow.compat.v1 as tf\n",
    "tf.disable_v2_behavior()\n",
    "\n",
    "# tf.enable_eager_execution()\n",
    "\n",
    "%matplotlib inline\n",
    "plt.rcParams['figure.figsize'] = (10.0,8.0)\n",
    "plt.rcParams['image.interpolation'] = 'nearest'\n",
    "plt.rcParams['image.cmap'] = 'gray'\n",
    "\n",
    "%load_ext autoreload\n",
    "%autoreload 2\n",
    "%autosave 60\n",
    "\n"
   ]
  },
  {
   "cell_type": "code",
   "execution_count": 2,
   "id": "efe54b50",
   "metadata": {},
   "outputs": [],
   "source": [
    "#Load Dataset\n",
    "\n",
    "# from sklearn.model_selection import train_test_split\n",
    "# data_train, data_test = tf.keras.datasets.mnist.load_data()\n",
    "\n",
    "# # separate a validation set\n",
    "# x_train, y_train = data_train \n",
    "# x_train, x_val, y_train, y_val = train_test_split(x_train, y_train, train_size=0.8, stratify=y_train)\n",
    "\n",
    "# x_test, y_test = data_test\n",
    "\n",
    "# # treating images as vectors and create one hot representations of labesl\n",
    "\n",
    "# x_train = x_train.reshape([-1, 28 * 28])\n",
    "# x_val = x_val.reshape([-1, 28 * 28])\n",
    "# x_test = x_test.reshape([-1, 28 * 28])\n",
    "\n",
    "# y_train = tf.one_hot(y_train, depth=10).numpy()\n",
    "# y_val = tf.one_hot(y_val, depth=10).numpy()\n",
    "# y_test = tf.one_hot(y_test, depth=10).numpy()\n",
    "\n",
    "\n",
    "# print('Shape of training input: ', x_train.shape)\n",
    "# print('Shape of training labels: ', y_train.shape)\n",
    "# print('Shape of validation input: ', x_val.shape)\n",
    "# print('Shape of validation labels: ', y_val.shape)\n",
    "# print('Shape of test input: ', x_test.shape)\n",
    "# print('Shape of test labels: ', y_test.shape)\n",
    "\n"
   ]
  },
  {
   "cell_type": "code",
   "execution_count": 3,
   "id": "6b56a72a",
   "metadata": {},
   "outputs": [],
   "source": [
    "# #my models\n",
    "\n",
    "# def Discriminator():\n",
    "#     model = keras.Sequential()\n",
    "#     model.add(keras.layers.BatchNormalization())\n",
    "#     model.add(keras.layers.Dense(units = 10, activation = 'sigmoid'))\n",
    "#     model.add(keras.layers.Dense(units = 1, activation = 'sigmoid'))\n",
    "    \n",
    "#     return model\n",
    "\n",
    "# def Generator():\n",
    "#     model = keras.Sequential()\n",
    "#     model.add(keras.layers.Dense(units = 10, activation = 'sigmoid'))\n",
    "#     model.add(keras.layers.Dense(units = 784, activation = 'sigmoid'))\n",
    "\n",
    "#     return model"
   ]
  },
  {
   "cell_type": "code",
   "execution_count": 40,
   "id": "c20dbc54",
   "metadata": {},
   "outputs": [],
   "source": [
    "#from https://towardsdatascience.com/generative-adversarial-networks-using-tensorflow-c8f4518406df\n",
    "\n",
    "def generator(z,reuse=None):\n",
    "    with tf.variable_scope('gen',reuse=reuse):\n",
    "        hidden1=tf.layers.dense(inputs=z,units=128,activation=tf.nn.leaky_relu)\n",
    "        hidden2=tf.layers.dense(inputs=hidden1,units=128,activation=tf.nn.leaky_relu)\n",
    "        output=tf.layers.dense(inputs=hidden2,units=784,activation=tf.nn.tanh)\n",
    "        \n",
    "        return output\n",
    "    \n",
    "def discriminator(X,reuse=None):\n",
    "    with tf.variable_scope('dis',reuse=reuse):\n",
    "        hidden1=tf.layers.dense(inputs=X,units=128,activation=tf.nn.leaky_relu)\n",
    "        hidden2=tf.layers.dense(inputs=hidden1,units=128,activation=tf.nn.leaky_relu)\n",
    "        logits=tf.layers.dense(hidden2,units=1)\n",
    "        output=tf.sigmoid(logits)\n",
    "        \n",
    "        return output,logits"
   ]
  },
  {
   "cell_type": "code",
   "execution_count": 41,
   "id": "gothic-fisher",
   "metadata": {},
   "outputs": [],
   "source": [
    "tf.compat.v1.reset_default_graph()\n",
    "\n",
    "real_images=tf.placeholder(tf.float32,shape=[None,784])\n",
    "z=tf.placeholder(tf.float32,shape=[None,100])\n",
    "\n",
    "G=generator(z)\n",
    "D_output_real,D_logits_real=discriminator(real_images)\n",
    "D_output_fake,D_logits_fake=discriminator(G,reuse=True)"
   ]
  },
  {
   "cell_type": "code",
   "execution_count": 42,
   "id": "aging-withdrawal",
   "metadata": {},
   "outputs": [],
   "source": [
    "def loss_func(logits_in,labels_in):\n",
    "    return tf.reduce_mean(tf.nn.sigmoid_cross_entropy_with_logits(logits=logits_in,labels=labels_in))\n",
    "\n",
    "D_real_loss=loss_func(D_logits_real,tf.ones_like(D_logits_real)*0.9) #Smoothing for generalization\n",
    "D_fake_loss=loss_func(D_logits_fake,tf.zeros_like(D_logits_real))\n",
    "D_loss=D_real_loss+D_fake_loss\n",
    "\n",
    "G_loss= loss_func(D_logits_fake,tf.ones_like(D_logits_fake))"
   ]
  },
  {
   "cell_type": "code",
   "execution_count": 43,
   "id": "colonial-abuse",
   "metadata": {},
   "outputs": [],
   "source": [
    "lr=0.001\n",
    "\n",
    "#Do this when multiple networks interact with each other\n",
    "tvars=tf.trainable_variables()  #returns all variables created(the two variable scopes) and makes trainable true\n",
    "d_vars=[var for var in tvars if 'dis' in var.name]\n",
    "g_vars=[var for var in tvars if 'gen' in var.name]\n",
    "\n",
    "D_trainer=tf.train.AdamOptimizer(lr).minimize(D_loss,var_list=d_vars)\n",
    "G_trainer=tf.train.AdamOptimizer(lr).minimize(G_loss,var_list=g_vars)\n",
    "\n",
    "batch_size=100\n",
    "epochs=100\n",
    "init=tf.global_variables_initializer()"
   ]
  },
  {
   "cell_type": "code",
   "execution_count": 44,
   "id": "relative-leeds",
   "metadata": {},
   "outputs": [
    {
     "name": "stdout",
     "output_type": "stream",
     "text": [
      "(60000, 28, 28)\n",
      "on epoch0\n",
      "on epoch1\n",
      "on epoch2\n",
      "on epoch3\n",
      "on epoch4\n",
      "on epoch5\n",
      "on epoch6\n",
      "on epoch7\n",
      "on epoch8\n",
      "on epoch9\n",
      "on epoch10\n",
      "on epoch11\n",
      "on epoch12\n",
      "on epoch13\n",
      "on epoch14\n",
      "on epoch15\n",
      "on epoch16\n",
      "on epoch17\n",
      "on epoch18\n",
      "on epoch19\n",
      "on epoch20\n",
      "on epoch21\n",
      "on epoch22\n",
      "on epoch23\n",
      "on epoch24\n",
      "on epoch25\n",
      "on epoch26\n",
      "on epoch27\n",
      "on epoch28\n",
      "on epoch29\n",
      "on epoch30\n",
      "on epoch31\n",
      "on epoch32\n",
      "on epoch33\n",
      "on epoch34\n",
      "on epoch35\n",
      "on epoch36\n",
      "on epoch37\n",
      "on epoch38\n",
      "on epoch39\n",
      "on epoch40\n",
      "on epoch41\n",
      "on epoch42\n",
      "on epoch43\n",
      "on epoch44\n",
      "on epoch45\n",
      "on epoch46\n",
      "on epoch47\n",
      "on epoch48\n",
      "on epoch49\n",
      "on epoch50\n",
      "on epoch51\n",
      "on epoch52\n",
      "on epoch53\n",
      "on epoch54\n",
      "on epoch55\n",
      "on epoch56\n",
      "on epoch57\n",
      "on epoch58\n",
      "on epoch59\n",
      "on epoch60\n",
      "on epoch61\n",
      "on epoch62\n",
      "on epoch63\n",
      "on epoch64\n",
      "on epoch65\n",
      "on epoch66\n",
      "on epoch67\n",
      "on epoch68\n",
      "on epoch69\n",
      "on epoch70\n",
      "on epoch71\n",
      "on epoch72\n",
      "on epoch73\n",
      "on epoch74\n",
      "on epoch75\n",
      "on epoch76\n",
      "on epoch77\n",
      "on epoch78\n",
      "on epoch79\n",
      "on epoch80\n",
      "on epoch81\n",
      "on epoch82\n",
      "on epoch83\n",
      "on epoch84\n",
      "on epoch85\n",
      "on epoch86\n",
      "on epoch87\n",
      "on epoch88\n",
      "on epoch89\n",
      "on epoch90\n",
      "on epoch91\n",
      "on epoch92\n",
      "on epoch93\n",
      "on epoch94\n",
      "on epoch95\n",
      "on epoch96\n",
      "on epoch97\n",
      "on epoch98\n",
      "on epoch99\n"
     ]
    },
    {
     "data": {
      "text/plain": [
       "<matplotlib.image.AxesImage at 0x202edec7dc8>"
      ]
     },
     "execution_count": 44,
     "metadata": {},
     "output_type": "execute_result"
    },
    {
     "data": {
      "image/png": "[encoded data removed]",
      "text/plain": [
       "<Figure size 720x576 with 1 Axes>"
      ]
     },
     "metadata": {
      "needs_background": "light"
     },
     "output_type": "display_data"
    }
   ],
   "source": [
    "samples=[] #generator examples\n",
    "\n",
    "# print(type(mnist))\n",
    "# # print(mnist.keys())\n",
    "# print(mnist[0][0][69])\n",
    "\n",
    "(x_train, y_train), (x_test, y_test) = mnist\n",
    "# print(type(x_train))\n",
    "# print(x_train[1])\n",
    "print(np.shape(x_train))\n",
    "\n",
    "\n",
    "with tf.Session() as sess:\n",
    "    sess.run(init)\n",
    "    for epoch in range(epochs):\n",
    "        num_batches=np.shape(x_train)[0]//batch_size\n",
    "        for i in range(num_batches):\n",
    "#             batch=mnist.train.next_batch(batch_size)\n",
    "            batch = x_train[i*batch_size:(i+1)*batch_size]\n",
    "#             print('bs = ',np.shape(batch[0]))\n",
    "            batch_images=batch[0:batch_size].reshape((batch_size,784))\n",
    "            batch_images=batch_images*2-1\n",
    "            batch_z=np.random.uniform(-1,1,size=(batch_size,100))\n",
    "            _=sess.run(D_trainer,feed_dict={real_images:batch_images,z:batch_z})\n",
    "            _=sess.run(G_trainer,feed_dict={z:batch_z})\n",
    "            \n",
    "        print(\"on epoch{}\".format(epoch))\n",
    "        \n",
    "        sample_z=np.random.uniform(-1,1,size=(1,100))\n",
    "        gen_sample=sess.run(generator(z,reuse=True),feed_dict={z:sample_z})\n",
    "        \n",
    "        samples.append(gen_sample)\n",
    "\n",
    "plt.imshow(samples[0].reshape(28,28))"
   ]
  },
  {
   "cell_type": "code",
   "execution_count": 49,
   "id": "floating-hunger",
   "metadata": {},
   "outputs": [
    {
     "data": {
      "text/plain": [
       "<matplotlib.image.AxesImage at 0x202ef513048>"
      ]
     },
     "execution_count": 49,
     "metadata": {},
     "output_type": "execute_result"
    },
    {
     "data": {
      "image/png": "[encoded data removed]",
      "text/plain": [
       "<Figure size 720x576 with 1 Axes>"
      ]
     },
     "metadata": {
      "needs_background": "light"
     },
     "output_type": "display_data"
    }
   ],
   "source": [
    "plt.imshow(samples[-1].reshape(28,28))"
   ]
  },
  {
   "cell_type": "code",
   "execution_count": null,
   "id": "0a3b3030",
   "metadata": {},
   "outputs": [],
   "source": [
    "# from vis_utils import visualize_grid\n",
    "\n",
    "# # fake = fake.reshape([fake.shape[0], 28, 28, 1])\n",
    "# fake = samples[-1].reshape([1,28,28,1])\n",
    "\n",
    "# plt.imshow(visualize_grid(fake))"
   ]
  },
  {
   "cell_type": "code",
   "execution_count": null,
   "id": "e9930006",
   "metadata": {},
   "outputs": [],
   "source": [
    "# d = Discriminator()\n",
    "# g = Generator()\n",
    "\n",
    "# x_train = tf.convert_to_tensor(x_train)\n",
    "# x_train = tf.cast(x_train, tf.float32)\n",
    "\n",
    "# train = x_train[0:10,:]\n",
    "# print(np.shape(train))\n",
    "\n",
    "# d.predict(train);"
   ]
  },
  {
   "cell_type": "code",
   "execution_count": null,
   "id": "4dcef7bd",
   "metadata": {},
   "outputs": [],
   "source": [
    "seed = np.random.rand(1,1)\n",
    "fake = g.predict(seed);\n",
    "\n"
   ]
  },
  {
   "cell_type": "code",
   "execution_count": null,
   "id": "38ea5b2e",
   "metadata": {},
   "outputs": [],
   "source": [
    "tes = mnist['train']\n",
    "tes.keys()"
   ]
  },
  {
   "cell_type": "code",
   "execution_count": null,
   "id": "tight-petersburg",
   "metadata": {},
   "outputs": [],
   "source": []
  }
 ],
 "metadata": {
  "kernelspec": {
   "display_name": "dnn",
   "language": "python",
   "name": "dnn"
  },
  "language_info": {
   "codemirror_mode": {
    "name": "ipython",
    "version": 3
   },
   "file_extension": ".py",
   "mimetype": "text/x-python",
   "name": "python",
   "nbconvert_exporter": "python",
   "pygments_lexer": "ipython3",
   "version": "3.7.10"
  }
 },
 "nbformat": 4,
 "nbformat_minor": 5
}

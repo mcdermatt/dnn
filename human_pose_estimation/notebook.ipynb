{
 "cells": [
  {
   "cell_type": "markdown",
   "id": "dominant-emission",
   "metadata": {},
   "source": [
    "# Novel Inertia Based Human Pose Estimation Using CNN"
   ]
  },
  {
   "cell_type": "code",
   "execution_count": 36,
   "id": "appreciated-defeat",
   "metadata": {},
   "outputs": [
    {
     "name": "stdout",
     "output_type": "stream",
     "text": [
      "The autoreload extension is already loaded. To reload it, use:\n",
      "  %reload_ext autoreload\n"
     ]
    },
    {
     "data": {
      "application/javascript": [
       "IPython.notebook.set_autosave_interval(180000)"
      ]
     },
     "metadata": {},
     "output_type": "display_data"
    },
    {
     "name": "stdout",
     "output_type": "stream",
     "text": [
      "Autosaving every 180 seconds\n"
     ]
    }
   ],
   "source": [
    "#setup\n",
    "import numpy as np\n",
    "import tensorflow as tf\n",
    "import matplotlib.pyplot as plt\n",
    "import scipy.io as sio\n",
    "from utils import *\n",
    "\n",
    "#need to have these two lines to work on my ancient 1060 3gb\n",
    "#  https://stackoverflow.com/questions/43990046/tensorflow-blas-gemm-launch-failed\n",
    "physical_devices = tf.config.list_physical_devices('GPU') \n",
    "tf.config.experimental.set_memory_growth(physical_devices[0], True)\n",
    "\n",
    "%matplotlib inline\n",
    "plt.rcParams['figure.figsize'] = (10.0, 8.0) # set default size of plots\n",
    "plt.rcParams['image.interpolation'] = 'nearest'\n",
    "plt.rcParams['image.cmap'] = 'gray'\n",
    "\n",
    "# for auto-reloading external modules\n",
    "%load_ext autoreload\n",
    "%autoreload 2\n",
    "%autosave 180"
   ]
  },
  {
   "cell_type": "code",
   "execution_count": 51,
   "id": "identified-budget",
   "metadata": {},
   "outputs": [],
   "source": [
    "#Import data from MatLab SimScape Multibody Simulator\n",
    "\n",
    "#data comes from two files\n",
    "#1) n trajectories in xyz space, each length m\n",
    "traj = np.loadtxt(open(\"simulation/data/traj.txt\", \"rb\"), delimiter=\",\")\n",
    "trajPts = np.shape(traj)[0] #points per trajectory\n",
    "numTraj = np.shape(traj)[1]//3 #number of total trajectories\n",
    "#traj needs to be reshaped to a 3d numpy array\n",
    "#as is traj[n] shows [x,y,z,x,y,z...]\n",
    "\n",
    "\n",
    "#2) 7 joint angles at the end of the sequence\n",
    "jointPos = np.loadtxt(open(\"simulation/data/jointPos.txt\", \"rb\"), delimiter=\",\")\n",
    "\n",
    "# print(traj[-1])\n",
    "# print(jointPos[0])\n",
    "\n"
   ]
  },
  {
   "cell_type": "code",
   "execution_count": 49,
   "id": "ambient-occupation",
   "metadata": {},
   "outputs": [
    {
     "name": "stdout",
     "output_type": "stream",
     "text": [
      "[[-4.0806e-06  4.6788e-06 -5.4616e-06]\n",
      " [-1.1184e-04  5.7113e-04 -3.6927e-04]\n",
      " [-1.5593e-04  7.7011e-03 -3.9634e-03]\n",
      " [ 9.2895e-04  2.7390e-02 -1.3660e-02]\n",
      " [ 7.2177e-03  6.4283e-02 -3.2344e-02]\n",
      " [ 1.2962e-02  8.3514e-02 -4.2383e-02]\n",
      " [ 1.3017e-02  8.4203e-02 -4.2529e-02]\n",
      " [ 1.3128e-02  8.6913e-02 -4.2832e-02]\n",
      " [ 1.4460e-02  1.0095e-01 -4.3043e-02]\n",
      " [ 1.7110e-02  1.2171e-01 -4.2356e-02]]\n"
     ]
    }
   ],
   "source": [
    "#reshape traj data into 3d numpy array\n",
    "# print(np.shape(traj)) #(10,30) -> should be (10,3,10)\n",
    "t = np.zeros([trajPts,3,numTraj])\n",
    "for j in range(np.shape(traj)[0]):\n",
    "    for i in range(np.shape(traj)[1]//3):\n",
    "        t[j,:,i] = traj[j,3*i:3*(i+1)]\n",
    "print(t[:,:,0]) #same as in MatLab"
   ]
  },
  {
   "cell_type": "code",
   "execution_count": null,
   "id": "imperial-violence",
   "metadata": {},
   "outputs": [],
   "source": [
    "#Convert data from numpy to tensors\n",
    "\n",
    "#shuffle data"
   ]
  },
  {
   "cell_type": "code",
   "execution_count": null,
   "id": "funny-updating",
   "metadata": {},
   "outputs": [],
   "source": []
  }
 ],
 "metadata": {
  "kernelspec": {
   "display_name": "dnn",
   "language": "python",
   "name": "dnn"
  },
  "language_info": {
   "codemirror_mode": {
    "name": "ipython",
    "version": 3
   },
   "file_extension": ".py",
   "mimetype": "text/x-python",
   "name": "python",
   "nbconvert_exporter": "python",
   "pygments_lexer": "ipython3",
   "version": "3.7.10"
  }
 },
 "nbformat": 4,
 "nbformat_minor": 5
}

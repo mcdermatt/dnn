{
 "cells": [
  {
   "cell_type": "markdown",
   "id": "sorted-channels",
   "metadata": {},
   "source": [
    "# Novel Inertia Based Human Pose Estimation Using CNN"
   ]
  },
  {
   "cell_type": "code",
   "execution_count": 1,
   "id": "short-progressive",
   "metadata": {},
   "outputs": [
    {
     "data": {
      "application/javascript": [
       "IPython.notebook.set_autosave_interval(180000)"
      ]
     },
     "metadata": {},
     "output_type": "display_data"
    },
    {
     "name": "stdout",
     "output_type": "stream",
     "text": [
      "Autosaving every 180 seconds\n"
     ]
    }
   ],
   "source": [
    "#setup\n",
    "import numpy as np\n",
    "import tensorflow as tf\n",
    "import matplotlib.pyplot as plt\n",
    "import scipy.io as sio\n",
    "from utils import *\n",
    "\n",
    "#need to have these two lines to work on my ancient 1060 3gb\n",
    "#  https://stackoverflow.com/questions/43990046/tensorflow-blas-gemm-launch-failed\n",
    "physical_devices = tf.config.list_physical_devices('GPU') \n",
    "tf.config.experimental.set_memory_growth(physical_devices[0], True)\n",
    "\n",
    "%matplotlib inline\n",
    "plt.rcParams['figure.figsize'] = (10.0, 8.0) # set default size of plots\n",
    "plt.rcParams['image.interpolation'] = 'nearest'\n",
    "plt.rcParams['image.cmap'] = 'gray'\n",
    "\n",
    "# for auto-reloading external modules\n",
    "%load_ext autoreload\n",
    "%autoreload 2\n",
    "%autosave 180"
   ]
  },
  {
   "cell_type": "code",
   "execution_count": null,
   "id": "synthetic-identification",
   "metadata": {},
   "outputs": [],
   "source": [
    "#Import and augment data by rotating about y axis\n",
    "\n",
    "from utils import *\n",
    "\n",
    "f1 = \"simulation/data/traj_9DOF_rel2start100k.txt\"\n",
    "f2 = \"simulation/data/jointPos_9DOF_rel2start100k.txt\"\n",
    "numTraj = 100000\n",
    "t, jointPos = add_body_rotation(f1, f2, numTraj, mult = 1)\n",
    "\n",
    "# f3 = \"simulation/data/traj_9DOF_250k.txt\"\n",
    "# f4 = \"simulation/data/jointPos_9DOF_250k.txt\"\n",
    "# numTraj = 250000\n",
    "# t2, jointPos2 = add_body_rotation(f3, f4, numTraj, mult = 1)\n",
    "\n",
    "\n",
    "# print(jointPos[0])"
   ]
  },
  {
   "cell_type": "code",
   "execution_count": null,
   "id": "regulated-glucose",
   "metadata": {},
   "outputs": [],
   "source": [
    "#combine traj and jointpos from the two datasets\n",
    "\n",
    "# print(np.shape(t),np.shape(t2))\n",
    "# print(np.shape(jointPos),np.shape(jointPos2))\n",
    "\n",
    "tCombined = np.concatenate((t,t2), axis = 0)\n",
    "jointPosCombined = np.concatenate((jointPos,jointPos2), axis = 0)\n",
    "\n",
    "print(np.shape(tCombined), np.shape(jointPosCombined))\n",
    "\n",
    "t = tCombined\n",
    "jointPos = jointPosCombined"
   ]
  },
  {
   "cell_type": "code",
   "execution_count": null,
   "id": "steady-amount",
   "metadata": {},
   "outputs": [],
   "source": [
    "#find and fix errors in data\n",
    "err = np.argwhere(np.abs(jointPos) == 0)[:,0]\n",
    "over_extended = np.argwhere(np.abs(jointPos) > 360)\n",
    "\n",
    "print(err)\n",
    "print(over_extended)\n",
    "\n",
    "# Remove cells with errors instead of doubling existing cells\n",
    "jointPos = np.delete(jointPos,err,axis = 0)\n",
    "t = np.delete(t,err, axis = 0)\n",
    "\n",
    "#replace empty trials with data from existing trials -> not a good idea...?\n",
    "# for i in err[:,0]:\n",
    "# #     print(jointPos[i])\n",
    "#     randIndex = int(np.floor(np.random.rand()*np.shape(jointPos)[0]))\n",
    "#     jointPos[i] = jointPos[randIndex]\n",
    "#     t[i] = t[randIndex]\n",
    "\n",
    "print(np.shape(jointPos))\n",
    "print(np.shape(t))\n",
    "\n",
    "# np.save(\"simulation/data/traj_combined\", t)\n",
    "# np.save(\"simulation/data/jointPos_combined\", jointPos)"
   ]
  },
  {
   "cell_type": "code",
   "execution_count": null,
   "id": "agreed-session",
   "metadata": {},
   "outputs": [],
   "source": [
    "#load pre-rotated dataset\n",
    "\n",
    "t = np.load(\"simulation/data/traj_combined.npy\")\n",
    "jointPos = np.load(\"simulation/data/jointPos_combined.npy\")"
   ]
  },
  {
   "cell_type": "code",
   "execution_count": null,
   "id": "whole-illinois",
   "metadata": {},
   "outputs": [],
   "source": [
    "from network import Net4 #for 10DOF model\n",
    "\n",
    "np.random.seed(1337)\n",
    "\n",
    "#convert data from numpy to tensors\n",
    "x_train = tf.convert_to_tensor(t,np.float32)\n",
    "y_train = tf.convert_to_tensor(jointPos,np.float32)\n",
    "\n",
    "# print(tf.shape(x_train))\n",
    "# print(x_train[0,:,1])"
   ]
  },
  {
   "cell_type": "code",
   "execution_count": null,
   "id": "working-argument",
   "metadata": {},
   "outputs": [],
   "source": [
    "model = Net4()\n",
    "\n",
    "runLen = 100    \n",
    "\n",
    "def scheduler(epoch, lr):\n",
    "#     part1 = 2*runLen//3\n",
    "#     part2 = 5*runLen//6 #net1\n",
    "\n",
    "    part1 = runLen//3\n",
    "    part2 = 2*runLen//3 #net2\n",
    "\n",
    "    if epoch < part1:\n",
    "        lr = 0.01\n",
    "        return lr\n",
    "    if epoch >= part1 and epoch < part2:\n",
    "        lr = 0.001\n",
    "        return lr\n",
    "    if epoch >= part2:\n",
    "        lr = 0.0005\n",
    "        return lr\n",
    "\n",
    "model.compile(\n",
    "    optimizer=tf.keras.optimizers.Adam(lr=0.001),\n",
    "    loss=tf.keras.losses.MeanSquaredError(),\n",
    "#     loss=tf.keras.losses.MeanAbsoluteError(),\n",
    "#     metrics=[tf.keras.metrics.MeanSquaredError()],\n",
    ")\n",
    "\n",
    "summary = model.summary()\n",
    "print(summary)\n",
    "\n",
    "callback = tf.keras.callbacks.LearningRateScheduler(scheduler)\n",
    "\n",
    "trace = model.fit(x=x_train, y=y_train, batch_size=128, epochs=runLen, verbose=1, \n",
    "                  validation_split=0.01, callbacks = [callback], shuffle=True)\n",
    "\n",
    "#current best on combined dataset:\n",
    "#   val_loss = 505\n",
    "#   sum error on 10k test set: 0.97\n"
   ]
  },
  {
   "cell_type": "code",
   "execution_count": null,
   "id": "promotional-howard",
   "metadata": {},
   "outputs": [],
   "source": [
    "plt.subplot(2, 1, 1)\n",
    "plt.plot(trace.history['loss'], '-')\n",
    "plt.plot(trace.history['val_loss'], '-')\n",
    "plt.legend(['train', 'val'], loc='upper left')\n",
    "plt.xlabel('iteration')\n",
    "plt.ylabel('loss')\n",
    "# plt.ylim(10,1000)"
   ]
  },
  {
   "cell_type": "code",
   "execution_count": 7,
   "id": "effective-denial",
   "metadata": {},
   "outputs": [
    {
     "name": "stdout",
     "output_type": "stream",
     "text": [
      "saved augmented data as tbr, jbr\n"
     ]
    }
   ],
   "source": [
    "#load larger test dataset (for calculating accuracy of network)\n",
    "\n",
    "ft1 = \"simulation/data/traj_9DOF_10k.txt\"\n",
    "ft2 = \"simulation/data/jointPos_9DOF_10k.txt\"\n",
    "numTraj = 10000 #number of trajectories given in base file\n",
    "\n",
    "tTest, jointPosTest = add_body_rotation(ft1, ft2, numTraj, mult =1)"
   ]
  },
  {
   "cell_type": "code",
   "execution_count": 33,
   "id": "demonstrated-elimination",
   "metadata": {},
   "outputs": [
    {
     "name": "stdout",
     "output_type": "stream",
     "text": [
      "saved augmented data as tbr, jbr, at\n"
     ]
    }
   ],
   "source": [
    "#load single test case (for use with viz)\n",
    "#DEBUG -> why does this perform better when data is generated with fast restart disabled??\n",
    "\n",
    "ft1 = \"simulation/data/traj_9DOF_1.txt\"\n",
    "ft2 = \"simulation/data/jointPos_9DOF_1.txt\"\n",
    "ft3 = \"simulation/data/jointPath.txt\"\n",
    "numTraj = 1 #number of trajectories given in base file\n",
    "\n",
    "tTest, jointPosTest = add_body_rotation(ft1, ft2, numTraj, mult =1, actual_traj=ft3)\n",
    "\n",
    "# print(tTest)\n",
    "# print(jointPosTest) #issue when only one element in jointPos input file"
   ]
  },
  {
   "cell_type": "code",
   "execution_count": 34,
   "id": "quiet-reducing",
   "metadata": {},
   "outputs": [
    {
     "name": "stdout",
     "output_type": "stream",
     "text": [
      "average error =  [ 7.4826236  6.666564   2.1891513  2.3657837  1.964421  12.34037\n",
      "  0.8812828 21.157175   4.6880713 12.451317 ]\n",
      "error as frac of joint range =  [0.149 0.111 0.032 0.021 0.016 0.034 0.006 0.117 0.042 0.034]\n",
      "total error =  0.5668746287935109\n",
      "prediction:  [ 7.5727600e-01  7.6436388e-01 -2.7448654e-02 -7.8315781e+01\n",
      "  4.0157890e-01  8.0439369e+01 -5.3955284e+01  1.8372175e+01\n",
      "  2.0578072e+01 -1.3837454e+02]\n",
      "actual:  tf.Tensor(\n",
      "[   8.2399     -5.9022     -2.2166    -75.95        2.366      68.099\n",
      "  -53.074      -2.785      15.89     -125.923225], shape=(10,), dtype=float32)\n"
     ]
    }
   ],
   "source": [
    "#test model- IMPORTANT TO USE NEVER BEFORE SEEN DATA\n",
    "\n",
    "x_test = tf.convert_to_tensor(tTest,np.float32)\n",
    "# print(x_test)\n",
    "y_test = tf.convert_to_tensor(jointPosTest,np.float32)\n",
    "\n",
    "prediction = model.predict(x_test)\n",
    "error = abs(y_test - prediction)\n",
    "\n",
    "#average error for estimates for each joint\n",
    "avg = np.average(error,axis=0)\n",
    "print(\"average error = \", avg)\n",
    "\n",
    "#range for each joint:\n",
    "ranges = [50, 60, 67.5, 110, 120, 360, 130, 180, 110, 360]\n",
    "rel_error = avg/ranges\n",
    "print(\"error as frac of joint range = \", np.floor(rel_error*1000)/1000) #1 is full range of joint\n",
    "print(\"total error = \",sum(rel_error))\n",
    "\n",
    "print(\"prediction: \",prediction[0])\n",
    "print(\"actual: \", y_test[0])\n",
    "\n",
    "np.save(\"simulation/data/prediction.npy\", prediction)"
   ]
  },
  {
   "cell_type": "markdown",
   "id": "respected-brown",
   "metadata": {},
   "source": [
    "Best total error: \n",
    "\n",
    "1.52 @ 10k  dataset, mult 1, BS 128, MSE\n",
    "\n",
    "1.29 @ 100k dataset, mult 2, BS 128, MSE\n",
    "\n",
    "1.15 @ 100k dataset, mult 1, BS 128, MSE\n",
    "\n",
    "1.10 @ 100k dataset, mult 1, BS 64,  MSE, Val loss = 851, 10 epoch\n",
    "\n",
    "0.97 @ 100k dataset, mult 1, BS 128,  MSE, Val loss = 623, 30 epoch\n",
    "\n",
    "0.86 @ 100k dataset, mult 1, BS 128,  MSE, Val loss = 556, 100 epoch\n",
    "\n",
    "0.90 @ 250k dataset (replace errors with repeats), mult 1, BS 128, val loss = 476, 100 epoch\n",
    "\n",
    "0.82 @ combined 650k dataset, mult 1, BS 128, MSE, val loss = 371, 100 epoch\n",
    "\n",
    "Notes:\n",
    "artifially creating more data by rotating about y axis at different angles is a bad idea. This teaches the network to memorize patterns of movement rather than learn the underlying dynamic models."
   ]
  },
  {
   "cell_type": "code",
   "execution_count": null,
   "id": "hidden-policy",
   "metadata": {},
   "outputs": [],
   "source": [
    "# model.save(\"10DOF.kmod\")"
   ]
  },
  {
   "cell_type": "code",
   "execution_count": 2,
   "id": "comparative-nightlife",
   "metadata": {},
   "outputs": [],
   "source": [
    "#load best scoring model\n",
    "\n",
    "model = tf.keras.models.load_model(\"10DOF.kmod\")"
   ]
  },
  {
   "cell_type": "code",
   "execution_count": null,
   "id": "acquired-spanish",
   "metadata": {},
   "outputs": [],
   "source": [
    "#proof my model is doing better than completely random guessing\n",
    "\n",
    "np.random.seed(None)\n",
    "\n",
    "# print(actual)\n",
    "# print(tf.shape(actual)) #[99 7]\n",
    "B = tf.random.uniform([1000,7])\n",
    "\n",
    "# B = tf.ones([99,7])\n",
    "B = B *tf.constant([25., 30., 33.75, 55. , 60., 180., 65.]) + tf.constant([0., 0., 26.25, -35., 30., 0., -65.])\n",
    "\n",
    "# print(tf.shape(B))\n",
    "# print(tf.shape(actual))\n",
    "\n",
    "fake_error = (y_test - B)\n",
    "# print(fake_error)\n",
    "\n",
    "fake_avg = tf.math.reduce_mean(tf.math.abs(fake_error), axis=0)\n",
    "print(fake_avg)\n",
    "\n",
    "rel_fake_error = fake_avg/ranges\n",
    "\n",
    "print(\"error as frac of joint range: \",rel_fake_error)\n",
    "print(\"total error: \", sum(rel_fake_error))\n",
    "\n",
    "#NOTE: these are not all the same becuase the starting ranges for joint positions do NOT fall in the middle of all\n",
    "#      possible positions for each joint"
   ]
  },
  {
   "cell_type": "code",
   "execution_count": null,
   "id": "small-punishment",
   "metadata": {},
   "outputs": [],
   "source": [
    "from scipy.spatial.transform import Rotation as R\n",
    "r = R.from_euler('zyx', [\n",
    "[90, 0, 0],\n",
    "[0, 45, 0],\n",
    "[45, 60, 30]], degrees=True)\n",
    "\n",
    "print(r)\n",
    "r.as_quat()\n",
    "\n",
    "v = [1, 2, 3]\n",
    "\n",
    "r.apply(v)"
   ]
  },
  {
   "cell_type": "code",
   "execution_count": null,
   "id": "perceived-apartment",
   "metadata": {},
   "outputs": [],
   "source": [
    "r1 = R.from_euler('z', 90, degrees=True)\n",
    "r2 = R.from_euler('x', 90, degrees=True)\n",
    "r3 = r1*r2\n",
    "\n",
    "v = [1, 2, 3]\n",
    "\n",
    "rot1 = r1.apply(v)\n",
    "rot2 = r3.apply(v)\n",
    "print(rot2)\n"
   ]
  },
  {
   "cell_type": "code",
   "execution_count": null,
   "id": "hungarian-picture",
   "metadata": {},
   "outputs": [],
   "source": [
    "a, b, c= r3.apply([1, 2, 3])\n",
    "print(a,b,c)\n"
   ]
  },
  {
   "cell_type": "code",
   "execution_count": null,
   "id": "preceding-supply",
   "metadata": {},
   "outputs": [],
   "source": [
    "#Import data from MatLab SimScape Multibody Simulator\n",
    "\n",
    "#data comes from two files\n",
    "#1) n trajectories in xyz space, each length m\n",
    "# traj = np.loadtxt(open(\"C:/Users/Derm/Desktop/traj_with_angs_1M.txt\", \"rb\"), delimiter=\",\")\n",
    "traj = np.loadtxt(open(\"simulation/data/traj_9DOF_100k.txt\", \"rb\"), delimiter=\",\")\n",
    "\n",
    "trajPts = np.shape(traj)[0] #points per trajectory\n",
    "# numTraj = np.shape(traj)[1]//3 #number of total trajectories\n",
    "numTraj = np.shape(traj)[1]//6 #number of total trajectories\n",
    "\n",
    "\n",
    "#traj needs to be reshaped to a 3d numpy array\n",
    "#as is traj[n] shows [x,y,z,x,y,z...]\n",
    "\n",
    "\n",
    "#2) 7 joint angles at the end of the sequence\n",
    "# jointPos = np.loadtxt(open(\"C:/Users/Derm/Desktop/jointPos_with_angs_1M.txt\", \"rb\"), delimiter=\",\")\n",
    "jointPos = np.loadtxt(open(\"simulation/data/jointPos_9DOF_100k.txt\", \"rb\"), delimiter=\",\")\n",
    "\n",
    "# print(traj[-1])\n",
    "# print(jointPos[0])\n",
    "\n"
   ]
  },
  {
   "cell_type": "code",
   "execution_count": null,
   "id": "immune-recovery",
   "metadata": {},
   "outputs": [],
   "source": [
    "#reshape traj data into 3d numpy array\n",
    "# t = np.zeros([trajPts,3,numTraj]) #net 1\n",
    "# for j in range(np.shape(traj)[0]):\n",
    "#     for i in range(np.shape(traj)[1]//3):\n",
    "#         t[j,:,i] = traj[j,3*i:3*(i+1)]\n",
    "        \n",
    "t = np.zeros([trajPts,6,numTraj]) #net 3\n",
    "for j in range(np.shape(traj)[0]):\n",
    "    for i in range(np.shape(traj)[1]//6):\n",
    "        t[j,:,i] = traj[j,6*i:6*(i+1)]\n",
    "\n",
    "        \n",
    "# print(t[:,:,0]) #same as in MatLab\n",
    "print(np.shape(t))\n",
    "#swap axis so batch size is first axis (for TF)\n",
    "t = np.swapaxes(t,0,2)\n",
    "print(np.shape(t)) #[numTraj, xyz, trajPts]\n",
    "#swap axis again so that conv1D moves on time and not xyz\n",
    "t = np.swapaxes(t,1,2)\n",
    "print(np.shape(t))"
   ]
  },
  {
   "cell_type": "code",
   "execution_count": null,
   "id": "middle-signature",
   "metadata": {},
   "outputs": [],
   "source": []
  }
 ],
 "metadata": {
  "kernelspec": {
   "display_name": "dnn",
   "language": "python",
   "name": "dnn"
  },
  "language_info": {
   "codemirror_mode": {
    "name": "ipython",
    "version": 3
   },
   "file_extension": ".py",
   "mimetype": "text/x-python",
   "name": "python",
   "nbconvert_exporter": "python",
   "pygments_lexer": "ipython3",
   "version": "3.7.10"
  }
 },
 "nbformat": 4,
 "nbformat_minor": 5
}
